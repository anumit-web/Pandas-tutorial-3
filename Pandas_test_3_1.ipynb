{
  "cells": [
    {
      "cell_type": "markdown",
      "metadata": {
        "id": "view-in-github",
        "colab_type": "text"
      },
      "source": [
        "<a href=\"https://colab.research.google.com/github/anumit-web/Pandas-tutorial-3/blob/main/Pandas_test_3_1.ipynb\" target=\"_parent\"><img src=\"https://colab.research.google.com/assets/colab-badge.svg\" alt=\"Open In Colab\"/></a>"
      ]
    },
    {
      "cell_type": "markdown",
      "source": [
        "# Pandas testing\n"
      ],
      "metadata": {
        "id": "0DaYoFtTE7j6"
      }
    },
    {
      "cell_type": "markdown",
      "source": [
        "code location =\n",
        "\n",
        "https://github.com/anumit-web/Pandas-tutorial-3/"
      ],
      "metadata": {
        "id": "M3UyrmR52kP9"
      }
    },
    {
      "cell_type": "markdown",
      "source": [
        "code reference =\n",
        "\n",
        "https://www.datacamp.com/tutorial/pandas-read-csv"
      ],
      "metadata": {
        "id": "Pw_i48a53OLP"
      }
    },
    {
      "cell_type": "code",
      "source": [
        "print (\"Hello World\")"
      ],
      "metadata": {
        "id": "YWyXqrAzE4XX"
      },
      "execution_count": null,
      "outputs": []
    },
    {
      "cell_type": "code",
      "source": [
        "import pandas as pd"
      ],
      "metadata": {
        "id": "Sr2UtvknxWip"
      },
      "execution_count": null,
      "outputs": []
    },
    {
      "cell_type": "code",
      "source": [
        "# !wget https://github.com/datasciencedojo/datasets/blob/master/titanic.csv"
      ],
      "metadata": {
        "id": "_kgXCgO0QiYp"
      },
      "execution_count": null,
      "outputs": []
    },
    {
      "cell_type": "markdown",
      "source": [
        "# titanic csv\n",
        "https://web.stanford.edu/class/archive/cs/cs109/cs109.1166/stuff/titanic.csv\n",
        "\n",
        "Use titanic data from Stanford university"
      ],
      "metadata": {
        "id": "Nj0td_q7xCGE"
      }
    },
    {
      "cell_type": "code",
      "source": [
        "!wget https://web.stanford.edu/class/archive/cs/cs109/cs109.1166/stuff/titanic.csv"
      ],
      "metadata": {
        "id": "d4OK7eohw4Xt"
      },
      "execution_count": null,
      "outputs": []
    },
    {
      "cell_type": "code",
      "source": [
        "df = pd.read_csv('titanic.csv')\n",
        "\n",
        "print(df.to_string())"
      ],
      "metadata": {
        "collapsed": true,
        "id": "fQQgC018xcGo"
      },
      "execution_count": null,
      "outputs": []
    },
    {
      "cell_type": "code",
      "source": [
        "df2 = pd.read_csv('https://www2.cs.arizona.edu/classes/cs120/fall17/ASSIGNMENTS/assg02/Pokemon.csv')"
      ],
      "metadata": {
        "id": "STa5TuNrz9A2"
      },
      "execution_count": null,
      "outputs": []
    },
    {
      "cell_type": "markdown",
      "source": [
        "# The Universirty of Arizona\n",
        "# Department of Computer Science\n",
        "\n",
        "CSc 120: Pokemon data analysis\n",
        "\n",
        "https://www2.cs.arizona.edu/classes/cs120/fall17/ASSIGNMENTS/assg02/pokemon.html\n"
      ],
      "metadata": {
        "id": "aUzw2MMi0kiL"
      }
    },
    {
      "cell_type": "code",
      "source": [
        "print(df2)"
      ],
      "metadata": {
        "id": "oDJh183Q0TbA"
      },
      "execution_count": null,
      "outputs": []
    }
  ],
  "metadata": {
    "kernelspec": {
      "display_name": "Python 3",
      "name": "python3"
    },
    "language_info": {
      "name": "python"
    },
    "colab": {
      "provenance": [],
      "include_colab_link": true
    }
  },
  "nbformat": 4,
  "nbformat_minor": 0
}