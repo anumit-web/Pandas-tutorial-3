{
  "cells": [
    {
      "cell_type": "markdown",
      "metadata": {
        "id": "view-in-github",
        "colab_type": "text"
      },
      "source": [
        "<a href=\"https://colab.research.google.com/github/anumit-web/Pandas-tutorial-3/blob/main/Pandas_test_3_1.ipynb\" target=\"_parent\"><img src=\"https://colab.research.google.com/assets/colab-badge.svg\" alt=\"Open In Colab\"/></a>"
      ]
    },
    {
      "cell_type": "markdown",
      "source": [
        "# Pandas testing\n"
      ],
      "metadata": {
        "id": "0DaYoFtTE7j6"
      }
    },
    {
      "cell_type": "code",
      "source": [
        "print (\"Hello World\")"
      ],
      "metadata": {
        "id": "YWyXqrAzE4XX",
        "outputId": "9b3b8c73-d636-402d-a7db-bc8b7172de5c",
        "colab": {
          "base_uri": "https://localhost:8080/"
        }
      },
      "execution_count": null,
      "outputs": [
        {
          "output_type": "stream",
          "name": "stdout",
          "text": [
            "Hello World\n"
          ]
        }
      ]
    },
    {
      "cell_type": "code",
      "source": [
        "!wget https://github.com/datasciencedojo/datasets/blob/master/titanic.csv"
      ],
      "metadata": {
        "id": "_kgXCgO0QiYp",
        "outputId": "58e429ff-fbb3-4009-9e1d-f94c43f44698",
        "colab": {
          "base_uri": "https://localhost:8080/"
        }
      },
      "execution_count": 1,
      "outputs": [
        {
          "output_type": "stream",
          "name": "stdout",
          "text": [
            "--2024-08-11 07:06:34--  https://github.com/datasciencedojo/datasets/blob/master/titanic.csv\n",
            "Resolving github.com (github.com)... 140.82.114.3\n",
            "Connecting to github.com (github.com)|140.82.114.3|:443... connected.\n",
            "HTTP request sent, awaiting response... 200 OK\n",
            "Length: unspecified [text/html]\n",
            "Saving to: ‘titanic.csv’\n",
            "\n",
            "titanic.csv             [ <=>                ] 382.61K  --.-KB/s    in 0.1s    \n",
            "\n",
            "2024-08-11 07:06:35 (2.60 MB/s) - ‘titanic.csv’ saved [391794]\n",
            "\n"
          ]
        }
      ]
    }
  ],
  "metadata": {
    "kernelspec": {
      "display_name": "Python 3",
      "name": "python3"
    },
    "language_info": {
      "name": "python"
    },
    "colab": {
      "provenance": [],
      "include_colab_link": true
    }
  },
  "nbformat": 4,
  "nbformat_minor": 0
}