{
  "cells": [
    {
      "cell_type": "markdown",
      "metadata": {
        "id": "view-in-github",
        "colab_type": "text"
      },
      "source": [
        "<a href=\"https://colab.research.google.com/github/anumit-web/Pandas-tutorial-3/blob/main/Pandas_test_3_2.ipynb\" target=\"_parent\"><img src=\"https://colab.research.google.com/assets/colab-badge.svg\" alt=\"Open In Colab\"/></a>"
      ]
    },
    {
      "cell_type": "markdown",
      "source": [
        "# Pandas testing\n"
      ],
      "metadata": {
        "id": "0DaYoFtTE7j6"
      }
    },
    {
      "cell_type": "markdown",
      "source": [
        "code location =\n",
        "\n",
        "https://github.com/anumit-web/Pandas-tutorial-3/"
      ],
      "metadata": {
        "id": "M3UyrmR52kP9"
      }
    },
    {
      "cell_type": "markdown",
      "source": [
        "code reference =\n",
        "\n",
        "https://www.datacamp.com/tutorial/pandas-read-csv\n",
        "\n",
        "https://blog.dailydoseofds.com/p/you-will-never-use-pandas-describe\n",
        "\n",
        "https://chatgpt.com/\n",
        "\n",
        "https://www.meta.ai/"
      ],
      "metadata": {
        "id": "Pw_i48a53OLP"
      }
    },
    {
      "cell_type": "code",
      "source": [],
      "metadata": {
        "id": "MAWcF0uT6wgy"
      },
      "execution_count": null,
      "outputs": []
    },
    {
      "cell_type": "code",
      "source": [],
      "metadata": {
        "id": "pa9ZosKq6w6N"
      },
      "execution_count": null,
      "outputs": []
    }
  ],
  "metadata": {
    "kernelspec": {
      "display_name": "Python 3",
      "name": "python3"
    },
    "language_info": {
      "name": "python"
    },
    "colab": {
      "provenance": [],
      "include_colab_link": true
    }
  },
  "nbformat": 4,
  "nbformat_minor": 0
}